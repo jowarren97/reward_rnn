{
 "cells": [
  {
   "cell_type": "code",
   "execution_count": 824,
   "metadata": {},
   "outputs": [
    {
     "name": "stdout",
     "output_type": "stream",
     "text": [
      "The autoreload extension is already loaded. To reload it, use:\n",
      "  %reload_ext autoreload\n"
     ]
    }
   ],
   "source": [
    "%load_ext autoreload\n",
    "%autoreload 2\n",
    "\n",
    "from sklearn.model_selection import train_test_split\n",
    "from sklearn.preprocessing import StandardScaler\n",
    "from sklearn.linear_model import LogisticRegression\n",
    "from sklearn.metrics import accuracy_score, confusion_matrix, classification_report\n",
    "import numpy as np\n",
    "import matplotlib.pyplot as plt\n",
    "from config import Conf\n",
    "import os\n",
    "from tqdm import tqdm\n"
   ]
  },
  {
   "cell_type": "code",
   "execution_count": 825,
   "metadata": {},
   "outputs": [],
   "source": [
    "load_dir = '/Users/jo/notebooks_paper/run_data/2024-02-05/Untitled/18:37'"
   ]
  },
  {
   "cell_type": "code",
   "execution_count": 826,
   "metadata": {},
   "outputs": [],
   "source": [
    "def partition_trials(arr, t_axis=1):\n",
    "    arr_trial = np.array_split(arr, arr.shape[t_axis]//Conf.trial_len, axis=t_axis)\n",
    "    arr_trial = np.stack(arr_trial, axis=1)\n",
    "    return arr_trial\n",
    "\n",
    "def partition_all(arrs, t_axis=1):\n",
    "    return [partition_trials(arr, t_axis=t_axis) for arr in arrs]\n",
    "\n",
    "def argmax_all(arrs, onehot_axis=-1):\n",
    "    return [np.argmax(arr, axis=onehot_axis) for arr in arrs]\n",
    "\n",
    "def unpack_data_dict(data_dict):\n",
    "    return data_dict['inputs'], data_dict['targets'], data_dict['choices'], data_dict['ground_truth'], data_dict['p_A_high'], data_dict['hidden']\n",
    "\n",
    "def detect_anomalies(thresholds = Conf.threshold):\n",
    "    # thresholds = 4.99\n",
    "    if thresholds is not None:\n",
    "        thresholds = thresholds - 0.01\n",
    "        anomaly = hidden_trial > thresholds\n",
    "        return np.any(anomaly, axis=(1,2,3))\n",
    "    else:\n",
    "        return []"
   ]
  },
  {
   "cell_type": "markdown",
   "metadata": {},
   "source": [
    "504, 1000, 5, 256\n",
    "504, 256, n_p_bins, 5\n",
    "3, 9, n_p_bins, 5\n"
   ]
  },
  {
   "cell_type": "code",
   "execution_count": 827,
   "metadata": {},
   "outputs": [
    {
     "name": "stdout",
     "output_type": "stream",
     "text": [
      "here\n",
      "['choices', 'ground_truth', 'hidden', 'inputs', 'p_A_high', 'targets']\n",
      "Dataset: /choices\n",
      "Dataset: /ground_truth\n",
      "Dataset: /hidden\n",
      "Dataset: /inputs\n",
      "Dataset: /p_A_high\n",
      "Dataset: /targets\n",
      "['choices', 'ground_truth', 'hidden', 'inputs', 'p_A_high', 'targets']\n",
      "choices 160\n",
      "ground_truth 160\n",
      "hidden 160\n",
      "inputs 160\n",
      "p_A_high 40\n",
      "targets 160\n",
      "n_chunks: 1\n"
     ]
    },
    {
     "ename": "KeyError",
     "evalue": "'targets_masked_masked_masked'",
     "output_type": "error",
     "traceback": [
      "\u001b[0;31m---------------------------------------------------------------------------\u001b[0m",
      "\u001b[0;31mKeyError\u001b[0m                                  Traceback (most recent call last)",
      "Cell \u001b[0;32mIn[827], line 50\u001b[0m\n\u001b[1;32m     47\u001b[0m     slices \u001b[38;5;241m=\u001b[39m \u001b[38;5;28mtuple\u001b[39m(slices)\n\u001b[1;32m     48\u001b[0m     data_dict[key] \u001b[38;5;241m=\u001b[39m item[slices]\n\u001b[0;32m---> 50\u001b[0m inputs, targets, choices, ground_truth, p_A, hiddens \u001b[38;5;241m=\u001b[39m \u001b[43munpack_data_dict\u001b[49m\u001b[43m(\u001b[49m\u001b[43mdata_dict\u001b[49m\u001b[43m)\u001b[49m\n\u001b[1;32m     52\u001b[0m \u001b[38;5;28mprint\u001b[39m([x\u001b[38;5;241m.\u001b[39mshape \u001b[38;5;28;01mfor\u001b[39;00m x \u001b[38;5;129;01min\u001b[39;00m [inputs, choices, targets, hiddens]])\n\u001b[1;32m     53\u001b[0m inputs_trial, choices_trial, targets_trial, hidden_trial \u001b[38;5;241m=\u001b[39m partition_all([inputs, choices, targets, hiddens])\n",
      "Cell \u001b[0;32mIn[826], line 13\u001b[0m, in \u001b[0;36munpack_data_dict\u001b[0;34m(data_dict)\u001b[0m\n\u001b[1;32m     12\u001b[0m \u001b[38;5;28;01mdef\u001b[39;00m \u001b[38;5;21munpack_data_dict\u001b[39m(data_dict):\n\u001b[0;32m---> 13\u001b[0m     \u001b[38;5;28;01mreturn\u001b[39;00m data_dict[\u001b[38;5;124m'\u001b[39m\u001b[38;5;124minputs\u001b[39m\u001b[38;5;124m'\u001b[39m], \u001b[43mdata_dict\u001b[49m\u001b[43m[\u001b[49m\u001b[38;5;124;43m'\u001b[39;49m\u001b[38;5;124;43mtargets_masked_masked_masked\u001b[39;49m\u001b[38;5;124;43m'\u001b[39;49m\u001b[43m]\u001b[49m, data_dict[\u001b[38;5;124m'\u001b[39m\u001b[38;5;124mchoices\u001b[39m\u001b[38;5;124m'\u001b[39m], data_dict[\u001b[38;5;124m'\u001b[39m\u001b[38;5;124mground_truth\u001b[39m\u001b[38;5;124m'\u001b[39m], data_dict[\u001b[38;5;124m'\u001b[39m\u001b[38;5;124mp_A_high\u001b[39m\u001b[38;5;124m'\u001b[39m], data_dict[\u001b[38;5;124m'\u001b[39m\u001b[38;5;124mhidden\u001b[39m\u001b[38;5;124m'\u001b[39m]\n",
      "\u001b[0;31mKeyError\u001b[0m: 'targets_masked_masked_masked'"
     ]
    }
   ],
   "source": [
    "import h5py\n",
    "from plotting import *\n",
    "\n",
    "def list_all_datasets(h5file, prefix=''):\n",
    "    print('here')\n",
    "    print([k for k in h5file.keys()])\n",
    "    for key in h5file.keys():\n",
    "        item = h5file[key]\n",
    "        path = f\"{prefix}/{key}\"\n",
    "        if isinstance(item, h5py.Dataset):\n",
    "            # This is a dataset\n",
    "            print(f\"Dataset: {path}\")\n",
    "        elif isinstance(item, h5py.Group):\n",
    "            # This is a group, recurse into it\n",
    "            list_all_datasets(item, path)\n",
    "\n",
    "with h5py.File(os.path.join(load_dir, 'data_test.h5'), 'r') as file:\n",
    "    # Access the dataset\n",
    "    list_all_datasets(file)\n",
    "    print([k for k in file.keys()])\n",
    "\n",
    "    # Determine chunk size\n",
    "    num_trials_test = 40 # Conf.num_trials_test\n",
    "    chunk_size_trial = 40\n",
    "    chunk_size_t = num_trials_test * Conf.trial_len\n",
    "    # n_chunks = Conf.num_epochs_test  \n",
    "    lens = []\n",
    "    for key in file.keys():\n",
    "        lens.append(file[key].shape[1])\n",
    "        print(key, file[key].shape[1])\n",
    "    lens = np.unique(lens)\n",
    "    n_chunks = np.min(lens) // chunk_size_trial\n",
    "    # Read and process in chunks\n",
    "    print('n_chunks:', n_chunks)\n",
    "    means, bin_counts = [], []\n",
    "    for i in range(0, n_chunks):\n",
    "        # Read a chunk\n",
    "        data_dict = {}\n",
    "        for key in file.keys():\n",
    "            item = file[key]\n",
    "            chunk_size = chunk_size_t if item.shape[1] == n_chunks * chunk_size_t else chunk_size_trial\n",
    "\n",
    "            slices = [slice(None)] * len(item.shape)\n",
    "            # Replace the slice in the specified axis with the new range\n",
    "            start = i * chunk_size\n",
    "            slices[1] = slice(start, start + chunk_size)\n",
    "            slices = tuple(slices)\n",
    "            data_dict[key] = item[slices]\n",
    "\n",
    "        inputs, targets, choices, ground_truth, p_A, hiddens = unpack_data_dict(data_dict)\n",
    "        \n",
    "        print([x.shape for x in [inputs, choices, targets, hiddens]])\n",
    "        inputs_trial, choices_trial, targets_trial, hidden_trial = partition_all([inputs, choices, targets, hiddens])\n",
    "        print(inputs_trial.shape, choices_trial.shape, targets_trial.shape, hidden_trial.shape)\n",
    "\n",
    "        # inputs_arg_trial, choices_arg_trial, targets_arg_trial = argmax_all([inputs_trial, choices_trial, targets_trial])\n",
    "        # print(inputs_arg_trial.shape, choices_arg_trial.shape, targets_arg_trial.shape)\n",
    "\n",
    "        # plot_trials(inputs, ground_truth, targets, choices, p_A, fname=f'panel_{i}_h5.png', trials=15, b=0)\n",
    "\n",
    "        if i == 0:\n",
    "            x_arg_trial = np.argmax(inputs_trial[:,:Conf.x_dim,:], axis=-1)[:,0,:]\n",
    "            x_arg_trial = np.repeat(x_arg_trial[:, np.newaxis, :], inputs_trial.shape[1], axis=1)\n",
    "\n",
    "        anomalous_batches = detect_anomalies()\n",
    "        mean, bin_count = get_means(p_A, x_arg_trial, hidden_trial, anomalous_batches, n_p_bins=20 if Conf.reward_prob == 0.8 else 2)\n",
    "        means.append(mean)\n",
    "        bin_counts.append(bin_count)\n",
    "        # plot_average_layout_hists(p_A, inputs_arg_trial, hidden_trial, anomalous_batches, neur_ids=[235])"
   ]
  },
  {
   "cell_type": "code",
   "execution_count": null,
   "metadata": {},
   "outputs": [],
   "source": [
    "def swap_unique_elements(arr, layouts):\n",
    "    if layouts.shape[1] != 2:\n",
    "        raise ValueError('Layouts shape must be (n_batches, 2)')\n",
    "    if layouts.shape[0] != arr.shape[0]:\n",
    "        raise ValueError('Layouts shape[0] must match arr shape[0]')\n",
    "    \n",
    "    arr = arr.copy()\n",
    "    for row, layout in zip(arr, layouts):\n",
    "        a, b = layout[0], layout[1]\n",
    "        a_idx = np.where(row == a)[0]\n",
    "        b_idx = np.where(row == b)[0]\n",
    "\n",
    "        row[a_idx], row[b_idx] = b, a\n",
    "\n",
    "    return arr"
   ]
  },
  {
   "cell_type": "code",
   "execution_count": 874,
   "metadata": {},
   "outputs": [],
   "source": [
    "layouts = x_arg_trial[:,0,1:3]\n",
    "\n",
    "def train_decoders(hiddens, targets, layouts, exclude_batch_idxs=None, n_class=None, T=None, **kwargs):\n",
    "    if exclude_batch_idxs is not None:\n",
    "        hiddens_masked = np.delete(hiddens.copy(), exclude_batch_idxs, axis=0)\n",
    "        targets_masked = np.delete(targets.copy(), exclude_batch_idxs, axis=0)\n",
    "        layouts_masked = np.delete(layouts.copy(), exclude_batch_idxs, axis=0)\n",
    "    else:\n",
    "        hiddens_masked = hiddens.copy()\n",
    "        targets_masked = targets.copy()\n",
    "        layouts_masked = layouts.copy()\n",
    "    \n",
    "    accuracies, conf_matrices, chance = [], [], []\n",
    "    y_tests, y_preds = [], []\n",
    "\n",
    "    if hiddens.ndim != 3:\n",
    "        raise ValueError('hiddens must be a 3D array with shape (n_batches, n_steps, n_neurons)')\n",
    "    if targets.ndim not in [1,2]:\n",
    "        raise ValueError('targets must be a 1D or 2D array with shape (n_batches, ) or (n_batches, n_steps)')\n",
    "    \n",
    "    if T is None or T > hiddens_masked.shape[1]: T = hiddens_masked.shape[1]\n",
    "    conf_labels = np.unique(targets_masked) if n_class is None else np.arange(n_class)\n",
    "    print(conf_labels)\n",
    "    print(T)\n",
    "\n",
    "    if set(np.unique(targets_masked)).issubset([True, False]):\n",
    "        multiclass = False\n",
    "    else:\n",
    "        multiclass = True\n",
    "    print(f'Using multiclass: {multiclass}')\n",
    "\n",
    "\n",
    "    for step in tqdm(range(T)):\n",
    "        # y = A_good[:, step].ravel()\n",
    "        if targets_masked.ndim == 1:\n",
    "            y = targets_masked\n",
    "        else:\n",
    "            y = targets_masked[:,step].ravel()\n",
    "        X = hiddens_masked[:,step]\n",
    "\n",
    "        print(X.shape, y.shape)\n",
    "        X_train, X_test, y_train, y_test, layouts_train, layouts_test = train_test_split(X, y, layouts_masked, test_size=0.2, random_state=40)\n",
    "\n",
    "        if np.unique(y_test).size < 2:\n",
    "            accuracies.append(np.nan)\n",
    "            chance.append(np.nan)\n",
    "            continue\n",
    "        \n",
    "        # # Optionally, standardize features\n",
    "        scaler = StandardScaler()\n",
    "        X_train_scaled = scaler.fit_transform(X_train)\n",
    "        X_test_scaled = scaler.transform(X_test)\n",
    "\n",
    "        # Define and train the logistic regression model\n",
    "        model = LogisticRegression(solver='lbfgs', class_weight='balanced', **kwargs)\n",
    "        model.fit(X_train_scaled, y_train)\n",
    "\n",
    "        # Predictions\n",
    "        y_pred = model.predict(X_test_scaled)\n",
    "        y_tests.append(y_test)\n",
    "        y_preds.append(y_pred)\n",
    "\n",
    "        # Evaluate the model\n",
    "        accuracy = accuracy_score(y_test, y_pred)\n",
    "        conf_matrix = confusion_matrix(y_test, y_pred, labels=conf_labels, normalize='true')\n",
    "\n",
    "        accuracies.append(accuracy)\n",
    "        conf_matrices.append(conf_matrix)\n",
    "        chance.append(1 / len(np.unique(y_test)))\n",
    "\n",
    "        # print(f\"Step {step} accuracy: {accuracy}\")\n",
    "        # print(f\"Confusion Matrix:\\n{conf_matrix}\")\n",
    "        # print(f\"Classification Report:\\n{report}\")\n",
    "    return accuracies, conf_matrices, chance, (layouts_test, np.array(y_tests), np.array(y_preds))\n",
    "    \n",
    "\n",
    "def plot_decoding_accuracy(accuracies, chance=None, T=None, n_class=None, title=None):\n",
    "    T = len(accuracies) if T is None else T\n",
    "\n",
    "    if chance is not None:\n",
    "        plt.plot(chance * np.ones(T), 'r--', label='Chance')\n",
    "    elif n_class is not None:\n",
    "        chance = 1 / n_class\n",
    "        plt.hlines(chance, 0, T, 'r', 'dashed', label='Chance')\n",
    "    plt.plot(accuracies, 'b', linewidth=2, label='Decoding accuracy')\n",
    "    plt.xticks(range(0,T,Conf.trial_len), range(0,T,Conf.trial_len))\n",
    "    plt.xlim([0, T])\n",
    "    plt.ylim([0, 1.01])\n",
    "    plt.grid(True, 'major')\n",
    "    plt.ylabel('Decoding accuracy')\n",
    "    plt.xlabel('Step')\n",
    "    if title is not None: plt.title(title)\n",
    "    plt.legend()"
   ]
  },
  {
   "cell_type": "code",
   "execution_count": 904,
   "metadata": {},
   "outputs": [
    {
     "data": {
      "text/plain": [
       "1"
      ]
     },
     "execution_count": 904,
     "metadata": {},
     "output_type": "execute_result"
    }
   ],
   "source": [
    "def train_decoders_looped(hiddens, targets, layouts, train_steps=None, exclude_batch_idxs=None, n_class=None, T=None, **kwargs):\n",
    "    if exclude_batch_idxs is not None:\n",
    "        include_batch_idxs = np.array(list(set(range(hiddens.shape[0])) - set(exclude_batch_idxs))\n",
    "        hiddens_masked = hiddens.copy()[include_batch_idxs]\n",
    "        targets_masked = targets.copy()[include_batch_idxs]\n",
    "        layouts_masked = layouts.copy()[include_batch_idxs]\n",
    "    else:\n",
    "        hiddens_masked = hiddens.copy()\n",
    "        targets_masked = targets.copy()\n",
    "        layouts_masked = layouts.copy()\n",
    "    \n",
    "    accuracies, conf_matrices, chance = [], [], []\n",
    "    y_tests, y_preds = [], []\n",
    "\n",
    "    if hiddens.ndim != 3:\n",
    "        raise ValueError('hiddens must be a 3D array with shape (n_batches, n_steps, n_neurons)')\n",
    "    if targets.ndim not in [1,2]:\n",
    "        raise ValueError('targets must be a 1D or 2D array with shape (n_batches, ) or (n_batches, n_steps)')\n",
    "    \n",
    "    if T is None or T > hiddens_masked.shape[1]: T = hiddens_masked.shape[1]\n",
    "    conf_labels = np.unique(targets_masked) if n_class is None else np.arange(n_class)\n",
    "    print(conf_labels)\n",
    "    print(T)\n",
    "\n",
    "    if set(np.unique(targets_masked)).issubset([True, False]):\n",
    "        multiclass = False\n",
    "    else:\n",
    "        multiclass = True\n",
    "    print(f'Using multiclass: {multiclass}')\n",
    "\n",
    "\n",
    "    for step in tqdm(range(T)):\n",
    "        # y = A_good[:, step].ravel()\n",
    "        if targets_masked.ndim == 1:\n",
    "            y = targets_masked\n",
    "        else:\n",
    "            y = targets_masked[:,step].ravel()\n",
    "        X = hiddens_masked[:,step]\n",
    "\n",
    "        print(X.shape, y.shape)\n",
    "        X_train, X_test, y_train, y_test, layouts_train, layouts_test = train_test_split(X, y, layouts_masked, test_size=0.2, random_state=40)\n",
    "\n",
    "        if np.unique(y_test).size < 2:\n",
    "            accuracies.append(np.nan)\n",
    "            chance.append(np.nan)\n",
    "            continue\n",
    "        \n",
    "        # # Optionally, standardize features\n",
    "        scaler = StandardScaler()\n",
    "        X_train_scaled = scaler.fit_transform(X_train)\n",
    "        X_test_scaled = scaler.transform(X_test)\n",
    "\n",
    "        # Define and train the logistic regression model\n",
    "        model = LogisticRegression(solver='lbfgs', class_weight='balanced', **kwargs)\n",
    "        model.fit(X_train_scaled, y_train)\n",
    "\n",
    "        # Predictions\n",
    "        y_pred = model.predict(X_test_scaled)\n",
    "        y_tests.append(y_test)\n",
    "        y_preds.append(y_pred)\n",
    "\n",
    "        # Evaluate the model\n",
    "        accuracy = accuracy_score(y_test, y_pred)\n",
    "        conf_matrix = confusion_matrix(y_test, y_pred, labels=conf_labels, normalize='true')\n",
    "\n",
    "        accuracies.append(accuracy)\n",
    "        conf_matrices.append(conf_matrix)\n",
    "        chance.append(1 / len(np.unique(y_test)))\n"
   ]
  },
  {
   "cell_type": "code",
   "execution_count": 913,
   "metadata": {},
   "outputs": [],
   "source": [
    "dddd"
   ]
  },
  {
   "cell_type": "code",
   "execution_count": 907,
   "metadata": {},
   "outputs": [],
   "source": []
  },
  {
   "cell_type": "code",
   "execution_count": null,
   "metadata": {},
   "outputs": [],
   "source": [
    "action = choices[:,:,Conf.x_dim + Conf.r_dim:][:, Conf.ab_choice_step::Conf.trial_len]\n",
    "# Turn action array into 1's if element in row equals max in row\n",
    "action = np.argmax(action, axis=-1)\n",
    "# Repeat choice for each of the trial steps\n",
    "action = np.repeat(action, Conf.trial_len, axis=1)"
   ]
  },
  {
   "cell_type": "code",
   "execution_count": null,
   "metadata": {},
   "outputs": [
    {
     "name": "stdout",
     "output_type": "stream",
     "text": [
      "0 [ 1 37] (array([ 1, 18, 21, 37]), array([68,  4,  4, 80]))\n",
      "1 [11 42] (array([11, 24, 42]), array([76,  4, 76]))\n",
      "2 [12 40] (array([ 3, 12, 16, 33, 36, 40]), array([ 4, 60,  4,  8,  8, 72]))\n",
      "4 [40 49] (array([11, 18, 25, 36, 40, 49, 50]), array([ 4,  4,  8, 12, 68, 48, 12]))\n",
      "5 [ 0 27] (array([ 0, 19, 27, 34]), array([60,  4, 88,  4]))\n",
      "5097 4903\n",
      "[175 192 237 178 166 211 207 216 210 194 239 224 196 223 171 194 202 199\n",
      " 191 190 193 210 223 201 192 206 183 200 228 211 183 188 185 201 210 201\n",
      " 191 184 208 206 193 208 189 207 209 184 206 186 225 174]\n",
      "(array([ 0,  1,  2,  3,  4,  5,  6,  7,  8,  9, 10, 11, 12, 13, 14, 15, 16,\n",
      "       17, 18, 19, 20, 21, 22, 23, 24, 25, 26, 27, 28, 29, 30, 31, 32, 33,\n",
      "       34, 35, 36, 37, 38, 39, 40, 41, 42, 43, 44, 45, 46, 47, 48, 49]), array([ 87, 118, 155,  85,  79, 134, 127, 109, 138,  88, 176, 156, 148,\n",
      "       183,  98, 118,  59, 115,  93,  54,  74, 101, 154,  77,  90,  67,\n",
      "        51, 104,  91, 104,  42, 152,  77, 114, 120,  67,  58,  89,  60,\n",
      "       129,  92,  70, 129,  60,  87,  50, 168,  47, 156,  97]))\n"
     ]
    }
   ],
   "source": [
    "ignore_first_trial = True\n",
    "start = 0 if not ignore_first_trial else Conf.trial_len\n",
    "\n",
    "anomalous_idxs = []\n",
    "for idx, row in enumerate(action):\n",
    "    unique, counts = np.unique(row[start:], return_counts=True)\n",
    "    if len(unique) > 2:\n",
    "        anomalous_idxs.append(idx)\n",
    "\n",
    "for idx in anomalous_idxs[:5]:\n",
    "    print(idx, np.sort(layouts[idx]), np.unique(action[idx, start:], return_counts=True))\n",
    "    # print(action[idx])\n",
    "\n",
    "non_anomalous_idxs = [i for i in range(len(action)) if i not in anomalous_idxs]\n",
    "print(len(anomalous_idxs), len(non_anomalous_idxs))\n",
    "\n",
    "layouts_anomalous = layouts[anomalous_idxs]\n",
    "print(np.unique(layouts[:,1], return_counts=True)[-1])\n",
    "print(np.unique(layouts_anomalous[:,1], return_counts=True))\n"
   ]
  },
  {
   "cell_type": "code",
   "execution_count": 663,
   "metadata": {},
   "outputs": [
    {
     "name": "stdout",
     "output_type": "stream",
     "text": [
      "[50 50 50 32 50 50 50 32 50 50 50 32 50 50 50 32 50 50 50 33 50 50 50 33\n",
      " 50 50 50 32 50 50 50 33 50 50 50 32 50 50 50 33 50 50 50 32 50 50 50 33\n",
      " 50 50 50 32 50 50 50 32 50 50 50 33 50 50 50 32 50 50 50 32 50 50 50 32\n",
      " 50 50 50 33 50 50 50 33 50 50 50 33 50 50 50 32 50 50 50 33 50 50 50 32\n",
      " 50 50 50 32 50 50 50 32 50 50 50 32 50 50 50 32 50 50 50 32 50 50 50 33\n",
      " 50 50 50 33 50 50 50 33 50 50 50 33 50 50 50 33 50 50 50 32 50 50 50 32\n",
      " 50 50 50 32 50 50 50 32 50 50 50 32 50 50 50 32]\n"
     ]
    },
    {
     "data": {
      "image/png": "[encoded data removed]",
      "text/plain": [
       "<Figure size 1000x8000 with 4 Axes>"
      ]
     },
     "metadata": {},
     "output_type": "display_data"
    }
   ],
   "source": [
    "import torch\n",
    "\n",
    "b = 154\n",
    "num_trials = 80\n",
    "t = num_trials * Conf.trial_len\n",
    "\n",
    "import matplotlib.pyplot as plt\n",
    "fig, axes = plt.subplots(1, 4, figsize=(10, num_trials))\n",
    "\n",
    "def display_mat(ax, data, title='', highlight=False):\n",
    "    data = data.clone().numpy() if type(data) == torch.Tensor else data\n",
    "    ax.imshow(data, aspect='auto', interpolation='none')\n",
    "    ax.axvline(x=Conf.x_dim-0.5, c='w', linewidth=1)\n",
    "    ax.axvline(x=Conf.r_dim + Conf.x_dim-0.5, c='w', linewidth=1)\n",
    "    for i in range(1, t//Conf.trial_len + 1):\n",
    "        ax.axhline(y=i * Conf.trial_len-0.5, c='w', linewidth=1)\n",
    "    ax.set_title(title, fontsize=10)\n",
    "\n",
    "    if highlight:\n",
    "        for i, choice in enumerate(np.argmax(data, axis=-1)):\n",
    "            rect = patches.Rectangle((choice-0.5, i-0.5), 1, 1, linewidth=1, edgecolor='white', facecolor='none')\n",
    "            axes[3].add_patch(rect)\n",
    "\n",
    "    # ax.yaxis.set_visible(False)\n",
    "    # ax.xaxis.set_visible(False)\n",
    "    # q: how do I turn on the grid on the plot?\n",
    "    # a: ax.grid(True)\n",
    "    # q: its not showing up\n",
    "    # a: try plt.grid(True)\n",
    "    # q: its still not showing up\n",
    "    # Set grid\n",
    "    ax.set_xticks([i+0.5 for i in range(data.shape[1])])  # Adjust x-ticks to align with grid\n",
    "    ax.set_yticks([i+0.5 for i in range(data.shape[0])])  # Adjust y-ticks to align with grid\n",
    "    ax.tick_params(axis='both', which='both', bottom=False, top=False, left=False, right=False, labelbottom=False, labelleft=False)\n",
    "    ax.grid(True, which='both', color='white', alpha=0.3, linestyle='-', linewidth=0.5)\n",
    "\n",
    "a_idx = Conf.x_dim + Conf.r_dim\n",
    "display_mat(axes[0], inputs[b, :t, a_idx:], title='inputs')\n",
    "display_mat(axes[1], ground_truth[b, :t, a_idx:], title='groundtruths')\n",
    "display_mat(axes[2], targets[b, :t, a_idx:], title='targets')\n",
    "display_mat(axes[3], choices[b, :t, a_idx:], title='choices', highlight=True)\n",
    "# display_mat(axes[3], softmax(choices[b, :t, a_idx:], axis=-1), title='choices')\n",
    "print(np.argmax(choices[b, :t, a_idx:], axis=-1))"
   ]
  },
  {
   "cell_type": "code",
   "execution_count": 908,
   "metadata": {},
   "outputs": [
    {
     "name": "stdout",
     "output_type": "stream",
     "text": [
      "[ 0  1  2  3  4  5  6  7  8  9 10 11 12 13 14 15 16 17 18 19 20 21 22 23\n",
      " 24 25 26 27 28 29 30 31 32 33 34 35 36 37 38 39 40 41 42 43 44 45 46 47\n",
      " 48 49 50]\n",
      "20\n",
      "Using multiclass: True\n"
     ]
    },
    {
     "name": "stderr",
     "output_type": "stream",
     "text": [
      "  0%|          | 0/20 [00:00<?, ?it/s]"
     ]
    },
    {
     "name": "stdout",
     "output_type": "stream",
     "text": [
      "(10000, 512) (10000,)\n"
     ]
    },
    {
     "name": "stderr",
     "output_type": "stream",
     "text": [
      "  5%|▌         | 1/20 [00:03<01:01,  3.24s/it]"
     ]
    },
    {
     "name": "stdout",
     "output_type": "stream",
     "text": [
      "(10000, 512) (10000,)\n"
     ]
    },
    {
     "name": "stderr",
     "output_type": "stream",
     "text": [
      " 10%|█         | 2/20 [00:08<01:23,  4.63s/it]"
     ]
    },
    {
     "name": "stdout",
     "output_type": "stream",
     "text": [
      "(10000, 512) (10000,)\n"
     ]
    },
    {
     "name": "stderr",
     "output_type": "stream",
     "text": [
      " 15%|█▌        | 3/20 [00:11<01:02,  3.66s/it]"
     ]
    },
    {
     "name": "stdout",
     "output_type": "stream",
     "text": [
      "(10000, 512) (10000,)\n"
     ]
    },
    {
     "name": "stderr",
     "output_type": "stream",
     "text": [
      " 20%|██        | 4/20 [00:14<00:52,  3.28s/it]"
     ]
    },
    {
     "name": "stdout",
     "output_type": "stream",
     "text": [
      "(10000, 512) (10000,)\n"
     ]
    },
    {
     "name": "stderr",
     "output_type": "stream",
     "text": [
      " 25%|██▌       | 5/20 [00:16<00:43,  2.90s/it]"
     ]
    },
    {
     "name": "stdout",
     "output_type": "stream",
     "text": [
      "(10000, 512) (10000,)\n"
     ]
    },
    {
     "name": "stderr",
     "output_type": "stream",
     "text": [
      " 30%|███       | 6/20 [00:18<00:36,  2.62s/it]"
     ]
    },
    {
     "name": "stdout",
     "output_type": "stream",
     "text": [
      "(10000, 512) (10000,)\n"
     ]
    },
    {
     "name": "stderr",
     "output_type": "stream",
     "text": [
      " 35%|███▌      | 7/20 [00:20<00:31,  2.40s/it]"
     ]
    },
    {
     "name": "stdout",
     "output_type": "stream",
     "text": [
      "(10000, 512) (10000,)\n"
     ]
    },
    {
     "name": "stderr",
     "output_type": "stream",
     "text": [
      " 40%|████      | 8/20 [00:22<00:27,  2.31s/it]"
     ]
    },
    {
     "name": "stdout",
     "output_type": "stream",
     "text": [
      "(10000, 512) (10000,)\n"
     ]
    },
    {
     "name": "stderr",
     "output_type": "stream",
     "text": [
      " 45%|████▌     | 9/20 [00:24<00:25,  2.35s/it]"
     ]
    },
    {
     "name": "stdout",
     "output_type": "stream",
     "text": [
      "(10000, 512) (10000,)\n"
     ]
    },
    {
     "name": "stderr",
     "output_type": "stream",
     "text": [
      " 50%|█████     | 10/20 [00:26<00:22,  2.26s/it]"
     ]
    },
    {
     "name": "stdout",
     "output_type": "stream",
     "text": [
      "(10000, 512) (10000,)\n"
     ]
    },
    {
     "name": "stderr",
     "output_type": "stream",
     "text": [
      " 55%|█████▌    | 11/20 [00:29<00:19,  2.22s/it]"
     ]
    },
    {
     "name": "stdout",
     "output_type": "stream",
     "text": [
      "(10000, 512) (10000,)\n"
     ]
    },
    {
     "name": "stderr",
     "output_type": "stream",
     "text": [
      " 60%|██████    | 12/20 [00:31<00:17,  2.19s/it]"
     ]
    },
    {
     "name": "stdout",
     "output_type": "stream",
     "text": [
      "(10000, 512) (10000,)\n"
     ]
    },
    {
     "name": "stderr",
     "output_type": "stream",
     "text": [
      " 65%|██████▌   | 13/20 [00:33<00:15,  2.28s/it]"
     ]
    },
    {
     "name": "stdout",
     "output_type": "stream",
     "text": [
      "(10000, 512) (10000,)\n"
     ]
    },
    {
     "name": "stderr",
     "output_type": "stream",
     "text": [
      " 70%|███████   | 14/20 [00:35<00:13,  2.24s/it]"
     ]
    },
    {
     "name": "stdout",
     "output_type": "stream",
     "text": [
      "(10000, 512) (10000,)\n"
     ]
    },
    {
     "name": "stderr",
     "output_type": "stream",
     "text": [
      " 75%|███████▌  | 15/20 [00:37<00:11,  2.23s/it]"
     ]
    },
    {
     "name": "stdout",
     "output_type": "stream",
     "text": [
      "(10000, 512) (10000,)\n"
     ]
    },
    {
     "name": "stderr",
     "output_type": "stream",
     "text": [
      " 80%|████████  | 16/20 [00:40<00:08,  2.22s/it]"
     ]
    },
    {
     "name": "stdout",
     "output_type": "stream",
     "text": [
      "(10000, 512) (10000,)\n"
     ]
    },
    {
     "name": "stderr",
     "output_type": "stream",
     "text": [
      " 85%|████████▌ | 17/20 [00:42<00:07,  2.35s/it]"
     ]
    },
    {
     "name": "stdout",
     "output_type": "stream",
     "text": [
      "(10000, 512) (10000,)\n"
     ]
    },
    {
     "name": "stderr",
     "output_type": "stream",
     "text": [
      " 90%|█████████ | 18/20 [00:45<00:04,  2.33s/it]"
     ]
    },
    {
     "name": "stdout",
     "output_type": "stream",
     "text": [
      "(10000, 512) (10000,)\n"
     ]
    },
    {
     "name": "stderr",
     "output_type": "stream",
     "text": [
      " 95%|█████████▌| 19/20 [00:47<00:02,  2.34s/it]"
     ]
    },
    {
     "name": "stdout",
     "output_type": "stream",
     "text": [
      "(10000, 512) (10000,)\n"
     ]
    },
    {
     "name": "stderr",
     "output_type": "stream",
     "text": [
      "100%|██████████| 20/20 [00:49<00:00,  2.49s/it]\n"
     ]
    }
   ],
   "source": [
    "accuracies_action, _, chance, _ = train_decoders(hiddens, targets=action, layouts=layouts, exclude_batch_idxs=None, T=20, multi_class='ovr', max_iter=200, random_state=42)"
   ]
  },
  {
   "cell_type": "code",
   "execution_count": 909,
   "metadata": {},
   "outputs": [
    {
     "data": {
      "image/png": "[encoded data removed]",
      "text/plain": [
       "<Figure size 640x480 with 1 Axes>"
      ]
     },
     "metadata": {},
     "output_type": "display_data"
    }
   ],
   "source": [
    "plot_decoding_accuracy(accuracies_action, n_class=Conf.port_dim, title='Port choice decoding')"
   ]
  },
  {
   "cell_type": "code",
   "execution_count": 836,
   "metadata": {},
   "outputs": [
    {
     "name": "stdout",
     "output_type": "stream",
     "text": [
      "(10000, 160)\n",
      "[50 50 50 50 37 37 37 37 37 37 37 37 37 37 37 37 18 18 18 18]\n",
      "[50 50 50 50  1  1  1  1  1  1  1  1  1  1  1  1 18 18 18 18]\n",
      "[ 0  1  2  3  4  5  6  7  8  9 10 11 12 13 14 15 16 17 18 19 20 21 22 23\n",
      " 24 25 26 27 28 29 30 31 32 33 34 35 36 37 38 39 40 41 42 43 44 45 46 47\n",
      " 48 49 50]\n",
      "20\n",
      "Using multiclass: True\n"
     ]
    },
    {
     "name": "stderr",
     "output_type": "stream",
     "text": [
      "  0%|          | 0/20 [00:00<?, ?it/s]"
     ]
    },
    {
     "name": "stdout",
     "output_type": "stream",
     "text": [
      "(4903, 512) (4903,)\n"
     ]
    },
    {
     "name": "stderr",
     "output_type": "stream",
     "text": [
      "  5%|▌         | 1/20 [00:01<00:32,  1.73s/it]"
     ]
    },
    {
     "name": "stdout",
     "output_type": "stream",
     "text": [
      "(4903, 512) (4903,)\n"
     ]
    },
    {
     "name": "stderr",
     "output_type": "stream",
     "text": [
      " 10%|█         | 2/20 [00:04<00:42,  2.35s/it]"
     ]
    },
    {
     "name": "stdout",
     "output_type": "stream",
     "text": [
      "(4903, 512) (4903,)\n"
     ]
    },
    {
     "name": "stderr",
     "output_type": "stream",
     "text": [
      " 15%|█▌        | 3/20 [00:05<00:31,  1.88s/it]"
     ]
    },
    {
     "name": "stdout",
     "output_type": "stream",
     "text": [
      "(4903, 512) (4903,)\n"
     ]
    },
    {
     "name": "stderr",
     "output_type": "stream",
     "text": [
      " 20%|██        | 4/20 [00:07<00:27,  1.73s/it]"
     ]
    },
    {
     "name": "stdout",
     "output_type": "stream",
     "text": [
      "(4903, 512) (4903,)\n"
     ]
    },
    {
     "name": "stderr",
     "output_type": "stream",
     "text": [
      " 25%|██▌       | 5/20 [00:08<00:22,  1.49s/it]"
     ]
    },
    {
     "name": "stdout",
     "output_type": "stream",
     "text": [
      "(4903, 512) (4903,)\n"
     ]
    },
    {
     "name": "stderr",
     "output_type": "stream",
     "text": [
      " 30%|███       | 6/20 [00:09<00:18,  1.32s/it]"
     ]
    },
    {
     "name": "stdout",
     "output_type": "stream",
     "text": [
      "(4903, 512) (4903,)\n"
     ]
    },
    {
     "name": "stderr",
     "output_type": "stream",
     "text": [
      " 35%|███▌      | 7/20 [00:10<00:16,  1.27s/it]"
     ]
    },
    {
     "name": "stdout",
     "output_type": "stream",
     "text": [
      "(4903, 512) (4903,)\n"
     ]
    },
    {
     "name": "stderr",
     "output_type": "stream",
     "text": [
      " 40%|████      | 8/20 [00:12<00:16,  1.37s/it]"
     ]
    },
    {
     "name": "stdout",
     "output_type": "stream",
     "text": [
      "(4903, 512) (4903,)\n"
     ]
    },
    {
     "name": "stderr",
     "output_type": "stream",
     "text": [
      " 45%|████▌     | 9/20 [00:13<00:14,  1.29s/it]"
     ]
    },
    {
     "name": "stdout",
     "output_type": "stream",
     "text": [
      "(4903, 512) (4903,)\n"
     ]
    },
    {
     "name": "stderr",
     "output_type": "stream",
     "text": [
      " 50%|█████     | 10/20 [00:14<00:12,  1.22s/it]"
     ]
    },
    {
     "name": "stdout",
     "output_type": "stream",
     "text": [
      "(4903, 512) (4903,)\n"
     ]
    },
    {
     "name": "stderr",
     "output_type": "stream",
     "text": [
      " 55%|█████▌    | 11/20 [00:15<00:11,  1.24s/it]"
     ]
    },
    {
     "name": "stdout",
     "output_type": "stream",
     "text": [
      "(4903, 512) (4903,)\n"
     ]
    },
    {
     "name": "stderr",
     "output_type": "stream",
     "text": [
      " 60%|██████    | 12/20 [00:16<00:10,  1.27s/it]"
     ]
    },
    {
     "name": "stdout",
     "output_type": "stream",
     "text": [
      "(4903, 512) (4903,)\n"
     ]
    },
    {
     "name": "stderr",
     "output_type": "stream",
     "text": [
      " 65%|██████▌   | 13/20 [00:18<00:08,  1.23s/it]"
     ]
    },
    {
     "name": "stdout",
     "output_type": "stream",
     "text": [
      "(4903, 512) (4903,)\n"
     ]
    },
    {
     "name": "stderr",
     "output_type": "stream",
     "text": [
      " 70%|███████   | 14/20 [00:19<00:07,  1.19s/it]"
     ]
    },
    {
     "name": "stdout",
     "output_type": "stream",
     "text": [
      "(4903, 512) (4903,)\n"
     ]
    },
    {
     "name": "stderr",
     "output_type": "stream",
     "text": [
      " 75%|███████▌  | 15/20 [00:20<00:06,  1.22s/it]"
     ]
    },
    {
     "name": "stdout",
     "output_type": "stream",
     "text": [
      "(4903, 512) (4903,)\n"
     ]
    },
    {
     "name": "stderr",
     "output_type": "stream",
     "text": [
      " 80%|████████  | 16/20 [00:21<00:05,  1.26s/it]"
     ]
    },
    {
     "name": "stdout",
     "output_type": "stream",
     "text": [
      "(4903, 512) (4903,)\n"
     ]
    },
    {
     "name": "stderr",
     "output_type": "stream",
     "text": [
      " 85%|████████▌ | 17/20 [00:22<00:03,  1.23s/it]"
     ]
    },
    {
     "name": "stdout",
     "output_type": "stream",
     "text": [
      "(4903, 512) (4903,)\n"
     ]
    },
    {
     "name": "stderr",
     "output_type": "stream",
     "text": [
      " 90%|█████████ | 18/20 [00:24<00:02,  1.19s/it]"
     ]
    },
    {
     "name": "stdout",
     "output_type": "stream",
     "text": [
      "(4903, 512) (4903,)\n"
     ]
    },
    {
     "name": "stderr",
     "output_type": "stream",
     "text": [
      " 95%|█████████▌| 19/20 [00:25<00:01,  1.19s/it]"
     ]
    },
    {
     "name": "stdout",
     "output_type": "stream",
     "text": [
      "(4903, 512) (4903,)\n"
     ]
    },
    {
     "name": "stderr",
     "output_type": "stream",
     "text": [
      "100%|██████████| 20/20 [00:26<00:00,  1.33s/it]\n"
     ]
    },
    {
     "ename": "ValueError",
     "evalue": "too many values to unpack (expected 3)",
     "output_type": "error",
     "traceback": [
      "\u001b[0;31m---------------------------------------------------------------------------\u001b[0m",
      "\u001b[0;31mValueError\u001b[0m                                Traceback (most recent call last)",
      "Cell \u001b[0;32mIn[836], line 8\u001b[0m\n\u001b[1;32m      5\u001b[0m \u001b[38;5;28mprint\u001b[39m(not_action[\u001b[38;5;241m0\u001b[39m,:\u001b[38;5;241m20\u001b[39m])\n\u001b[1;32m      6\u001b[0m \u001b[38;5;28mprint\u001b[39m(action[\u001b[38;5;241m0\u001b[39m,:\u001b[38;5;241m20\u001b[39m])\n\u001b[0;32m----> 8\u001b[0m accuracies_not_action, conf_matrices_not_action, data \u001b[38;5;241m=\u001b[39m train_decoders(hiddens, targets\u001b[38;5;241m=\u001b[39mnot_action, layouts\u001b[38;5;241m=\u001b[39mlayouts, exclude_batch_idxs\u001b[38;5;241m=\u001b[39manomalous_idxs, T\u001b[38;5;241m=\u001b[39m\u001b[38;5;241m20\u001b[39m, multi_class\u001b[38;5;241m=\u001b[39m\u001b[38;5;124m'\u001b[39m\u001b[38;5;124movr\u001b[39m\u001b[38;5;124m'\u001b[39m, max_iter\u001b[38;5;241m=\u001b[39m\u001b[38;5;241m200\u001b[39m, random_state\u001b[38;5;241m=\u001b[39m\u001b[38;5;241m42\u001b[39m)\n",
      "\u001b[0;31mValueError\u001b[0m: too many values to unpack (expected 3)"
     ]
    }
   ],
   "source": [
    "# Swap the unique elements in the action array\n",
    "not_action = swap_unique_elements(action, layouts)\n",
    "print(not_action.shape)\n",
    "\n",
    "print(not_action[0,:20])\n",
    "print(action[0,:20])\n",
    "\n",
    "accuracies_not_action, conf_matrices_not_action, data = train_decoders(hiddens, targets=not_action, layouts=layouts, exclude_batch_idxs=anomalous_idxs, T=20, multi_class='ovr', max_iter=200, random_state=42)"
   ]
  },
  {
   "cell_type": "code",
   "execution_count": 678,
   "metadata": {},
   "outputs": [
    {
     "name": "stdout",
     "output_type": "stream",
     "text": [
      "[188 399]\n",
      "[39 39 39 39 39 39 39 39  0  0  0  0  0  0  0  0  0  0  0  0  0  0  0  0\n",
      "  1  0  1  0  1  0  1  0  1  0  1  0  1  0  1  0]\n"
     ]
    },
    {
     "data": {
      "text/plain": [
       "<matplotlib.image.AxesImage at 0x2e2fd3f90>"
      ]
     },
     "execution_count": 678,
     "metadata": {},
     "output_type": "execute_result"
    },
    {
     "data": {
      "image/png": "[encoded data removed]",
      "text/plain": [
       "<Figure size 640x480 with 1 Axes>"
      ]
     },
     "metadata": {},
     "output_type": "display_data"
    }
   ],
   "source": [
    "layouts_test, y_trues, y_preds = data\n",
    "layouts = x_arg_trial[:,0,1:3]\n",
    "template = np.array([0,1])\n",
    "result = np.all(layouts_test == template, axis=1)\n",
    "idxs = np.where(result)[0]\n",
    "print(idxs)\n",
    "\n",
    "y_true = y_trues[:, idxs].flatten()\n",
    "y_pred = y_preds[:, idxs].flatten()\n",
    "\n",
    "print(y_true)\n",
    "\n",
    "plt.imshow(confusion_matrix(y_true, y_pred, labels=np.arange(Conf.port_dim), normalize='true'))"
   ]
  },
  {
   "cell_type": "code",
   "execution_count": 679,
   "metadata": {},
   "outputs": [
    {
     "data": {
      "image/png": "[encoded data removed]",
      "text/plain": [
       "<Figure size 640x480 with 1 Axes>"
      ]
     },
     "metadata": {},
     "output_type": "display_data"
    }
   ],
   "source": [
    "plot_decoding_accuracy(accuracies_not_action, n_class=Conf.port_dim, title='Port non-choice decoding')"
   ]
  },
  {
   "cell_type": "code",
   "execution_count": 720,
   "metadata": {},
   "outputs": [
    {
     "name": "stdout",
     "output_type": "stream",
     "text": [
      "[ 5 17 32 44]\n"
     ]
    }
   ],
   "source": [
    "bins.shape\n",
    "i = non_anomalous_idxs[0]\n",
    "print(np.unique(bins[:,5]))"
   ]
  },
  {
   "cell_type": "code",
   "execution_count": 878,
   "metadata": {},
   "outputs": [
    {
     "name": "stdout",
     "output_type": "stream",
     "text": [
      "[ 0  1  2  3  4  5  6  7  8  9 10 11 12 13 14 15 16 17 18 19 20 21 22 23\n",
      " 24 25 26 27 28 29 30 31 32 33 34 35 36 37 38 39 40 41 42 43 44 45 46 47\n",
      " 48 49]\n",
      "40\n",
      "Using multiclass: True\n"
     ]
    },
    {
     "name": "stderr",
     "output_type": "stream",
     "text": [
      "  0%|          | 0/40 [00:00<?, ?it/s]"
     ]
    },
    {
     "name": "stdout",
     "output_type": "stream",
     "text": [
      "(5097, 512) (5097,)\n",
      "(5097, 512) (5097,)\n"
     ]
    },
    {
     "name": "stderr",
     "output_type": "stream",
     "text": [
      "  8%|▊         | 3/40 [00:00<00:05,  7.12it/s]"
     ]
    },
    {
     "name": "stdout",
     "output_type": "stream",
     "text": [
      "(5097, 512) (5097,)\n",
      "(5097, 512) (5097,)\n"
     ]
    },
    {
     "name": "stderr",
     "output_type": "stream",
     "text": [
      " 10%|█         | 4/40 [00:00<00:06,  5.60it/s]"
     ]
    },
    {
     "name": "stdout",
     "output_type": "stream",
     "text": [
      "(5097, 512) (5097,)\n"
     ]
    },
    {
     "name": "stderr",
     "output_type": "stream",
     "text": [
      " 12%|█▎        | 5/40 [00:01<00:11,  3.01it/s]"
     ]
    },
    {
     "name": "stdout",
     "output_type": "stream",
     "text": [
      "(5097, 512) (5097,)\n"
     ]
    },
    {
     "name": "stderr",
     "output_type": "stream",
     "text": [
      " 15%|█▌        | 6/40 [00:01<00:14,  2.28it/s]"
     ]
    },
    {
     "name": "stdout",
     "output_type": "stream",
     "text": [
      "(5097, 512) (5097,)\n"
     ]
    },
    {
     "name": "stderr",
     "output_type": "stream",
     "text": [
      " 18%|█▊        | 7/40 [00:02<00:17,  1.86it/s]"
     ]
    },
    {
     "name": "stdout",
     "output_type": "stream",
     "text": [
      "(5097, 512) (5097,)\n"
     ]
    },
    {
     "name": "stderr",
     "output_type": "stream",
     "text": [
      " 20%|██        | 8/40 [00:03<00:21,  1.47it/s]"
     ]
    },
    {
     "name": "stdout",
     "output_type": "stream",
     "text": [
      "(5097, 512) (5097,)\n"
     ]
    },
    {
     "name": "stderr",
     "output_type": "stream",
     "text": [
      " 22%|██▎       | 9/40 [00:04<00:26,  1.19it/s]"
     ]
    },
    {
     "name": "stdout",
     "output_type": "stream",
     "text": [
      "(5097, 512) (5097,)\n"
     ]
    },
    {
     "name": "stderr",
     "output_type": "stream",
     "text": [
      " 25%|██▌       | 10/40 [00:06<00:31,  1.06s/it]"
     ]
    },
    {
     "name": "stdout",
     "output_type": "stream",
     "text": [
      "(5097, 512) (5097,)\n"
     ]
    },
    {
     "name": "stderr",
     "output_type": "stream",
     "text": [
      " 28%|██▊       | 11/40 [00:07<00:33,  1.17s/it]"
     ]
    },
    {
     "name": "stdout",
     "output_type": "stream",
     "text": [
      "(5097, 512) (5097,)\n"
     ]
    },
    {
     "name": "stderr",
     "output_type": "stream",
     "text": [
      " 30%|███       | 12/40 [00:09<00:38,  1.38s/it]"
     ]
    },
    {
     "name": "stdout",
     "output_type": "stream",
     "text": [
      "(5097, 512) (5097,)\n"
     ]
    },
    {
     "name": "stderr",
     "output_type": "stream",
     "text": [
      " 32%|███▎      | 13/40 [00:11<00:42,  1.57s/it]"
     ]
    },
    {
     "name": "stdout",
     "output_type": "stream",
     "text": [
      "(5097, 512) (5097,)\n"
     ]
    },
    {
     "name": "stderr",
     "output_type": "stream",
     "text": [
      " 35%|███▌      | 14/40 [00:14<00:47,  1.83s/it]"
     ]
    },
    {
     "name": "stdout",
     "output_type": "stream",
     "text": [
      "(5097, 512) (5097,)\n"
     ]
    },
    {
     "name": "stderr",
     "output_type": "stream",
     "text": [
      " 38%|███▊      | 15/40 [00:16<00:51,  2.05s/it]"
     ]
    },
    {
     "name": "stdout",
     "output_type": "stream",
     "text": [
      "(5097, 512) (5097,)\n"
     ]
    },
    {
     "name": "stderr",
     "output_type": "stream",
     "text": [
      " 40%|████      | 16/40 [00:20<00:59,  2.47s/it]"
     ]
    },
    {
     "name": "stdout",
     "output_type": "stream",
     "text": [
      "(5097, 512) (5097,)\n"
     ]
    },
    {
     "name": "stderr",
     "output_type": "stream",
     "text": [
      " 42%|████▎     | 17/40 [00:22<00:58,  2.54s/it]"
     ]
    },
    {
     "name": "stdout",
     "output_type": "stream",
     "text": [
      "(5097, 512) (5097,)\n"
     ]
    },
    {
     "name": "stderr",
     "output_type": "stream",
     "text": [
      " 45%|████▌     | 18/40 [00:26<01:01,  2.77s/it]"
     ]
    },
    {
     "name": "stdout",
     "output_type": "stream",
     "text": [
      "(5097, 512) (5097,)\n"
     ]
    },
    {
     "name": "stderr",
     "output_type": "stream",
     "text": [
      " 48%|████▊     | 19/40 [00:29<01:02,  2.97s/it]"
     ]
    },
    {
     "name": "stdout",
     "output_type": "stream",
     "text": [
      "(5097, 512) (5097,)\n"
     ]
    },
    {
     "name": "stderr",
     "output_type": "stream",
     "text": [
      " 50%|█████     | 20/40 [00:34<01:09,  3.47s/it]"
     ]
    },
    {
     "name": "stdout",
     "output_type": "stream",
     "text": [
      "(5097, 512) (5097,)\n"
     ]
    },
    {
     "name": "stderr",
     "output_type": "stream",
     "text": [
      " 52%|█████▎    | 21/40 [00:37<01:04,  3.38s/it]"
     ]
    },
    {
     "name": "stdout",
     "output_type": "stream",
     "text": [
      "(5097, 512) (5097,)\n"
     ]
    },
    {
     "name": "stderr",
     "output_type": "stream",
     "text": [
      " 55%|█████▌    | 22/40 [00:41<01:02,  3.47s/it]"
     ]
    },
    {
     "name": "stdout",
     "output_type": "stream",
     "text": [
      "(5097, 512) (5097,)\n"
     ]
    },
    {
     "name": "stderr",
     "output_type": "stream",
     "text": [
      " 57%|█████▊    | 23/40 [00:45<01:02,  3.65s/it]"
     ]
    },
    {
     "name": "stdout",
     "output_type": "stream",
     "text": [
      "(5097, 512) (5097,)\n"
     ]
    },
    {
     "name": "stderr",
     "output_type": "stream",
     "text": [
      " 60%|██████    | 24/40 [00:50<01:06,  4.15s/it]"
     ]
    },
    {
     "name": "stdout",
     "output_type": "stream",
     "text": [
      "(5097, 512) (5097,)\n"
     ]
    },
    {
     "name": "stderr",
     "output_type": "stream",
     "text": [
      " 62%|██████▎   | 25/40 [00:53<00:58,  3.91s/it]"
     ]
    },
    {
     "name": "stdout",
     "output_type": "stream",
     "text": [
      "(5097, 512) (5097,)\n"
     ]
    },
    {
     "name": "stderr",
     "output_type": "stream",
     "text": [
      " 65%|██████▌   | 26/40 [00:57<00:54,  3.91s/it]"
     ]
    },
    {
     "name": "stdout",
     "output_type": "stream",
     "text": [
      "(5097, 512) (5097,)\n"
     ]
    },
    {
     "name": "stderr",
     "output_type": "stream",
     "text": [
      " 68%|██████▊   | 27/40 [01:01<00:50,  3.91s/it]"
     ]
    },
    {
     "name": "stdout",
     "output_type": "stream",
     "text": [
      "(5097, 512) (5097,)\n"
     ]
    },
    {
     "name": "stderr",
     "output_type": "stream",
     "text": [
      " 70%|███████   | 28/40 [01:06<00:50,  4.21s/it]"
     ]
    },
    {
     "name": "stdout",
     "output_type": "stream",
     "text": [
      "(5097, 512) (5097,)\n"
     ]
    },
    {
     "name": "stderr",
     "output_type": "stream",
     "text": [
      " 72%|███████▎  | 29/40 [01:09<00:43,  3.92s/it]"
     ]
    },
    {
     "name": "stdout",
     "output_type": "stream",
     "text": [
      "(5097, 512) (5097,)\n"
     ]
    },
    {
     "name": "stderr",
     "output_type": "stream",
     "text": [
      " 75%|███████▌  | 30/40 [01:13<00:38,  3.88s/it]"
     ]
    },
    {
     "name": "stdout",
     "output_type": "stream",
     "text": [
      "(5097, 512) (5097,)\n"
     ]
    },
    {
     "name": "stderr",
     "output_type": "stream",
     "text": [
      " 78%|███████▊  | 31/40 [01:17<00:34,  3.88s/it]"
     ]
    },
    {
     "name": "stdout",
     "output_type": "stream",
     "text": [
      "(5097, 512) (5097,)\n"
     ]
    },
    {
     "name": "stderr",
     "output_type": "stream",
     "text": [
      " 80%|████████  | 32/40 [01:22<00:34,  4.29s/it]"
     ]
    },
    {
     "name": "stdout",
     "output_type": "stream",
     "text": [
      "(5097, 512) (5097,)\n"
     ]
    },
    {
     "name": "stderr",
     "output_type": "stream",
     "text": [
      " 82%|████████▎ | 33/40 [01:25<00:27,  3.95s/it]"
     ]
    },
    {
     "name": "stdout",
     "output_type": "stream",
     "text": [
      "(5097, 512) (5097,)\n"
     ]
    },
    {
     "name": "stderr",
     "output_type": "stream",
     "text": [
      " 85%|████████▌ | 34/40 [01:29<00:23,  3.94s/it]"
     ]
    },
    {
     "name": "stdout",
     "output_type": "stream",
     "text": [
      "(5097, 512) (5097,)\n"
     ]
    },
    {
     "name": "stderr",
     "output_type": "stream",
     "text": [
      " 88%|████████▊ | 35/40 [01:33<00:19,  3.94s/it]"
     ]
    },
    {
     "name": "stdout",
     "output_type": "stream",
     "text": [
      "(5097, 512) (5097,)\n"
     ]
    },
    {
     "name": "stderr",
     "output_type": "stream",
     "text": [
      " 90%|█████████ | 36/40 [01:38<00:17,  4.27s/it]"
     ]
    },
    {
     "name": "stdout",
     "output_type": "stream",
     "text": [
      "(5097, 512) (5097,)\n"
     ]
    },
    {
     "name": "stderr",
     "output_type": "stream",
     "text": [
      " 92%|█████████▎| 37/40 [01:41<00:11,  3.93s/it]"
     ]
    },
    {
     "name": "stdout",
     "output_type": "stream",
     "text": [
      "(5097, 512) (5097,)\n"
     ]
    },
    {
     "name": "stderr",
     "output_type": "stream",
     "text": [
      " 95%|█████████▌| 38/40 [01:45<00:07,  3.93s/it]"
     ]
    },
    {
     "name": "stdout",
     "output_type": "stream",
     "text": [
      "(5097, 512) (5097,)\n"
     ]
    },
    {
     "name": "stderr",
     "output_type": "stream",
     "text": [
      " 98%|█████████▊| 39/40 [01:49<00:03,  3.91s/it]"
     ]
    },
    {
     "name": "stdout",
     "output_type": "stream",
     "text": [
      "(5097, 512) (5097,)\n"
     ]
    },
    {
     "name": "stderr",
     "output_type": "stream",
     "text": [
      "100%|██████████| 40/40 [01:55<00:00,  2.88s/it]\n"
     ]
    }
   ],
   "source": [
    "n_p_bins = 50\n",
    "bin_edges = np.linspace(0, 1, n_p_bins+1)[1:]  # Creates 5 edges for 4 bins\n",
    "bins = np.digitize(p_A, bin_edges).squeeze()\n",
    "bins = np.repeat(bins, Conf.trial_len, axis=-1)\n",
    "accuracies_p_bins, conf_matrices_p_bins, chance_p_bins, data = train_decoders(hiddens, targets=bins, layouts=layouts, n_class=n_p_bins, exclude_batch_idxs=non_anomalous_idxs, T=40, multi_class='ovr', max_iter=1000, random_state=42)"
   ]
  },
  {
   "cell_type": "code",
   "execution_count": 879,
   "metadata": {},
   "outputs": [
    {
     "data": {
      "text/plain": [
       "40"
      ]
     },
     "execution_count": 879,
     "metadata": {},
     "output_type": "execute_result"
    }
   ],
   "source": [
    "len(chance_p_bins)"
   ]
  },
  {
   "cell_type": "code",
   "execution_count": 880,
   "metadata": {},
   "outputs": [
    {
     "data": {
      "image/png": "[encoded data removed]",
      "text/plain": [
       "<Figure size 640x480 with 1 Axes>"
      ]
     },
     "metadata": {},
     "output_type": "display_data"
    }
   ],
   "source": [
    "plot_decoding_accuracy(accuracies_p_bins, chance=chance_p_bins, n_class=n_p_bins, title='p(A) decoding')"
   ]
  },
  {
   "cell_type": "code",
   "execution_count": 868,
   "metadata": {},
   "outputs": [
    {
     "name": "stdout",
     "output_type": "stream",
     "text": [
      "[0 1 2 3]\n",
      "40\n",
      "Using multiclass: True\n"
     ]
    },
    {
     "name": "stderr",
     "output_type": "stream",
     "text": [
      " 15%|█▌        | 6/40 [00:00<00:00, 52.12it/s]"
     ]
    },
    {
     "name": "stdout",
     "output_type": "stream",
     "text": [
      "(5097, 512) (5097,)\n",
      "(5097, 512) (5097,)\n",
      "(5097, 512) (5097,)\n",
      "(5097, 512) (5097,)\n",
      "(5097, 512) (5097,)\n",
      "(5097, 512) (5097,)\n",
      "(5097, 512) (5097,)\n",
      "(5097, 512) (5097,)\n"
     ]
    },
    {
     "name": "stderr",
     "output_type": "stream",
     "text": [
      " 30%|███       | 12/40 [00:00<00:00, 28.07it/s]"
     ]
    },
    {
     "name": "stdout",
     "output_type": "stream",
     "text": [
      "(5097, 512) (5097,)\n",
      "(5097, 512) (5097,)\n",
      "(5097, 512) (5097,)\n",
      "(5097, 512) (5097,)\n",
      "(5097, 512) (5097,)\n"
     ]
    },
    {
     "name": "stderr",
     "output_type": "stream",
     "text": [
      " 40%|████      | 16/40 [00:00<00:00, 25.81it/s]"
     ]
    },
    {
     "name": "stdout",
     "output_type": "stream",
     "text": [
      "(5097, 512) (5097,)\n",
      "(5097, 512) (5097,)\n",
      "(5097, 512) (5097,)\n",
      "(5097, 512) (5097,)\n",
      "(5097, 512) (5097,)\n"
     ]
    },
    {
     "name": "stderr",
     "output_type": "stream",
     "text": [
      " 55%|█████▌    | 22/40 [00:00<00:00, 24.01it/s]"
     ]
    },
    {
     "name": "stdout",
     "output_type": "stream",
     "text": [
      "(5097, 512) (5097,)\n",
      "(5097, 512) (5097,)\n",
      "(5097, 512) (5097,)\n",
      "(5097, 512) (5097,)\n",
      "(5097, 512) (5097,)\n"
     ]
    },
    {
     "name": "stderr",
     "output_type": "stream",
     "text": [
      " 62%|██████▎   | 25/40 [00:01<00:00, 21.72it/s]"
     ]
    },
    {
     "name": "stdout",
     "output_type": "stream",
     "text": [
      "(5097, 512) (5097,)\n",
      "(5097, 512) (5097,)\n",
      "(5097, 512) (5097,)\n",
      "(5097, 512) (5097,)\n"
     ]
    },
    {
     "name": "stderr",
     "output_type": "stream",
     "text": [
      " 78%|███████▊  | 31/40 [00:01<00:00, 22.12it/s]"
     ]
    },
    {
     "name": "stdout",
     "output_type": "stream",
     "text": [
      "(5097, 512) (5097,)\n",
      "(5097, 512) (5097,)\n",
      "(5097, 512) (5097,)\n",
      "(5097, 512) (5097,)\n",
      "(5097, 512) (5097,)\n"
     ]
    },
    {
     "name": "stderr",
     "output_type": "stream",
     "text": [
      " 85%|████████▌ | 34/40 [00:01<00:00, 21.02it/s]"
     ]
    },
    {
     "name": "stdout",
     "output_type": "stream",
     "text": [
      "(5097, 512) (5097,)\n",
      "(5097, 512) (5097,)\n",
      "(5097, 512) (5097,)\n",
      "(5097, 512) (5097,)\n"
     ]
    },
    {
     "name": "stderr",
     "output_type": "stream",
     "text": [
      "100%|██████████| 40/40 [00:01<00:00, 22.99it/s]"
     ]
    },
    {
     "name": "stdout",
     "output_type": "stream",
     "text": [
      "(5097, 512) (5097,)\n",
      "(5097, 512) (5097,)\n",
      "(5097, 512) (5097,)\n",
      "(5097, 512) (5097,)\n"
     ]
    },
    {
     "name": "stderr",
     "output_type": "stream",
     "text": [
      "\n"
     ]
    }
   ],
   "source": [
    "n_p_bins = 4\n",
    "bin_edges = np.array([0.2, 0.5, 0.8, 1.0]) #np.linspace(0, 1, n_p_bins+1)[1:]  # Creates 5 edges for 4 bins\n",
    "bins = np.digitize(np.abs(p_A-0.5) + 0.5, bin_edges).squeeze()\n",
    "bins = np.repeat(bins, Conf.trial_len, axis=-1)\n",
    "accuracies_p_bins, conf_matrices_p_bins, chance, data = train_decoders(hiddens, targets=bins, layouts=layouts, n_class=n_p_bins, exclude_batch_idxs=non_anomalous_idxs, T=40, multi_class='ovr', max_iter=1000, random_state=42)"
   ]
  },
  {
   "cell_type": "code",
   "execution_count": 869,
   "metadata": {},
   "outputs": [
    {
     "data": {
      "image/png": "[encoded data removed]",
      "text/plain": [
       "<Figure size 640x480 with 1 Axes>"
      ]
     },
     "metadata": {},
     "output_type": "display_data"
    }
   ],
   "source": [
    "plot_decoding_accuracy(accuracies_p_bins, chance=None, n_class=n_p_bins, title='p(A) decoding')"
   ]
  },
  {
   "cell_type": "code",
   "execution_count": 855,
   "metadata": {},
   "outputs": [],
   "source": [
    "def mask_conf_mats(conf_mats, bins, n_p_bins, mask='all'):\n",
    "    if mask not in ['all', 'step']:\n",
    "        raise ValueError('mask must be \"all\" or \"step\"')\n",
    "    \n",
    "    if mask == 'all': idx = np.array(list(set(np.arange(n_p_bins)) - set(np.unique(bins))))\n",
    "    conf_mats_masked = []\n",
    "    for conf_mat, bin in zip(conf_mats, bins):\n",
    "        conf_mat_masked = conf_mat.copy()\n",
    "        if mask == 'step': idx = np.array(list(set(np.arange(n_p_bins)) - set(np.unique(bin))))\n",
    "        print(idx)\n",
    "        if len(idx):\n",
    "            conf_mat_masked[idx,:] = np.nan\n",
    "            conf_mat_masked[:,idx] = np.nan\n",
    "\n",
    "        conf_mats_masked.append(conf_mat_masked)\n",
    "    return conf_mats_masked"
   ]
  },
  {
   "cell_type": "code",
   "execution_count": 856,
   "metadata": {},
   "outputs": [
    {
     "name": "stdout",
     "output_type": "stream",
     "text": [
      "[ 0  1  2  3  4  5  6  7  8  9 10 11 12 13 14 15 16 17 18 19 20 21 22 23\n",
      " 24 25 26 27 39 47 48 49]\n",
      "[ 0  1  2  3  4  5  6  7  8  9 10 11 12 13 14 15 16 17 18 19 20 21 22 23\n",
      " 24 25 26 27 39 47 48 49]\n",
      "[ 0  1  2  3  4  5  6  7  8  9 10 11 12 13 14 15 16 17 18 19 20 21 22 23\n",
      " 24 25 26 27 39 47 48 49]\n",
      "[ 0  1  2  3  4  5  6  7  8  9 10 11 12 13 14 15 16 17 18 19 20 21 22 23\n",
      " 24 25 26 27 39 47 48 49]\n",
      "[ 0  1  2  3  4  5  6  7  8  9 10 11 12 13 14 15 16 17 18 19 20 21 22 23\n",
      " 24 25 26 27 39 47 48 49]\n",
      "[ 0  1  2  3  4  5  6  7  8  9 10 11 12 13 14 15 16 17 18 19 20 21 22 23\n",
      " 24 25 26 27 39 47 48 49]\n",
      "[ 0  1  2  3  4  5  6  7  8  9 10 11 12 13 14 15 16 17 18 19 20 21 22 23\n",
      " 24 25 26 27 39 47 48 49]\n",
      "[ 0  1  2  3  4  5  6  7  8  9 10 11 12 13 14 15 16 17 18 19 20 21 22 23\n",
      " 24 25 26 27 39 47 48 49]\n",
      "[ 0  1  2  3  4  5  6  7  8  9 10 11 12 13 14 15 16 17 18 19 20 21 22 23\n",
      " 24 25 26 27 39 47 48 49]\n",
      "[ 0  1  2  3  4  5  6  7  8  9 10 11 12 13 14 15 16 17 18 19 20 21 22 23\n",
      " 24 25 26 27 39 47 48 49]\n",
      "[ 0  1  2  3  4  5  6  7  8  9 10 11 12 13 14 15 16 17 18 19 20 21 22 23\n",
      " 24 25 26 27 39 47 48 49]\n",
      "[ 0  1  2  3  4  5  6  7  8  9 10 11 12 13 14 15 16 17 18 19 20 21 22 23\n",
      " 24 25 26 27 39 47 48 49]\n",
      "[ 0  1  2  3  4  5  6  7  8  9 10 11 12 13 14 15 16 17 18 19 20 21 22 23\n",
      " 24 25 26 27 39 47 48 49]\n",
      "[ 0  1  2  3  4  5  6  7  8  9 10 11 12 13 14 15 16 17 18 19 20 21 22 23\n",
      " 24 25 26 27 39 47 48 49]\n",
      "[ 0  1  2  3  4  5  6  7  8  9 10 11 12 13 14 15 16 17 18 19 20 21 22 23\n",
      " 24 25 26 27 39 47 48 49]\n",
      "[ 0  1  2  3  4  5  6  7  8  9 10 11 12 13 14 15 16 17 18 19 20 21 22 23\n",
      " 24 25 26 27 39 47 48 49]\n",
      "[ 0  1  2  3  4  5  6  7  8  9 10 11 12 13 14 15 16 17 18 19 20 21 22 23\n",
      " 24 25 26 27 39 47 48 49]\n",
      "[ 0  1  2  3  4  5  6  7  8  9 10 11 12 13 14 15 16 17 18 19 20 21 22 23\n",
      " 24 25 26 27 39 47 48 49]\n",
      "[ 0  1  2  3  4  5  6  7  8  9 10 11 12 13 14 15 16 17 18 19 20 21 22 23\n",
      " 24 25 26 27 39 47 48 49]\n",
      "[ 0  1  2  3  4  5  6  7  8  9 10 11 12 13 14 15 16 17 18 19 20 21 22 23\n",
      " 24 25 26 27 39 47 48 49]\n",
      "[ 0  1  2  3  4  5  6  7  8  9 10 11 12 13 14 15 16 17 18 19 20 21 22 23\n",
      " 24 25 26 27 39 47 48 49]\n",
      "[ 0  1  2  3  4  5  6  7  8  9 10 11 12 13 14 15 16 17 18 19 20 21 22 23\n",
      " 24 25 26 27 39 47 48 49]\n",
      "[ 0  1  2  3  4  5  6  7  8  9 10 11 12 13 14 15 16 17 18 19 20 21 22 23\n",
      " 24 25 26 27 39 47 48 49]\n",
      "[ 0  1  2  3  4  5  6  7  8  9 10 11 12 13 14 15 16 17 18 19 20 21 22 23\n",
      " 24 25 26 27 39 47 48 49]\n",
      "[ 0  1  2  3  4  5  6  7  8  9 10 11 12 13 14 15 16 17 18 19 20 21 22 23\n",
      " 24 25 26 27 39 47 48 49]\n",
      "[ 0  1  2  3  4  5  6  7  8  9 10 11 12 13 14 15 16 17 18 19 20 21 22 23\n",
      " 24 25 26 27 39 47 48 49]\n",
      "[ 0  1  2  3  4  5  6  7  8  9 10 11 12 13 14 15 16 17 18 19 20 21 22 23\n",
      " 24 25 26 27 39 47 48 49]\n",
      "[ 0  1  2  3  4  5  6  7  8  9 10 11 12 13 14 15 16 17 18 19 20 21 22 23\n",
      " 24 25 26 27 39 47 48 49]\n",
      "[ 0  1  2  3  4  5  6  7  8  9 10 11 12 13 14 15 16 17 18 19 20 21 22 23\n",
      " 24 25 26 27 39 47 48 49]\n",
      "[ 0  1  2  3  4  5  6  7  8  9 10 11 12 13 14 15 16 17 18 19 20 21 22 23\n",
      " 24 25 26 27 39 47 48 49]\n",
      "[ 0  1  2  3  4  5  6  7  8  9 10 11 12 13 14 15 16 17 18 19 20 21 22 23\n",
      " 24 25 26 27 39 47 48 49]\n",
      "[ 0  1  2  3  4  5  6  7  8  9 10 11 12 13 14 15 16 17 18 19 20 21 22 23\n",
      " 24 25 26 27 39 47 48 49]\n",
      "[ 0  1  2  3  4  5  6  7  8  9 10 11 12 13 14 15 16 17 18 19 20 21 22 23\n",
      " 24 25 26 27 39 47 48 49]\n",
      "[ 0  1  2  3  4  5  6  7  8  9 10 11 12 13 14 15 16 17 18 19 20 21 22 23\n",
      " 24 25 26 27 39 47 48 49]\n",
      "[ 0  1  2  3  4  5  6  7  8  9 10 11 12 13 14 15 16 17 18 19 20 21 22 23\n",
      " 24 25 26 27 39 47 48 49]\n",
      "[ 0  1  2  3  4  5  6  7  8  9 10 11 12 13 14 15 16 17 18 19 20 21 22 23\n",
      " 24 25 26 27 39 47 48 49]\n"
     ]
    },
    {
     "name": "stderr",
     "output_type": "stream",
     "text": [
      "/var/folders/lv/jc4t_z1d75n6dp1c2sbbc9xc0000gn/T/ipykernel_19463/1471288636.py:9: MatplotlibDeprecationWarning: The get_cmap function was deprecated in Matplotlib 3.7 and will be removed two minor releases later. Use ``matplotlib.colormaps[name]`` or ``matplotlib.colormaps.get_cmap(obj)`` instead.\n",
      "  cmap = plt.cm.get_cmap('viridis')\n",
      "/var/folders/lv/jc4t_z1d75n6dp1c2sbbc9xc0000gn/T/ipykernel_19463/1471288636.py:37: UserWarning: This figure includes Axes that are not compatible with tight_layout, so results might be incorrect.\n",
      "  plt.tight_layout()\n"
     ]
    },
    {
     "data": {
      "image/png": "[encoded data removed]",
      "text/plain": [
       "<Figure size 600x1500 with 40 Axes>"
      ]
     },
     "metadata": {},
     "output_type": "display_data"
    }
   ],
   "source": [
    "from matplotlib import gridspec\n",
    "\n",
    "n_row, n_col = len(conf_matrices_p_bins) // Conf.trial_len + 1, Conf.trial_len\n",
    "fig = plt.figure(figsize=(1.5 * n_col, 1.5 * n_row))\n",
    "gs = gridspec.GridSpec(n_row, n_col, figure=fig, wspace=0.1, hspace=0.1)\n",
    "\n",
    "conf_matrices_p_bins_masked = mask_conf_mats(conf_matrices_p_bins, bins, n_p_bins, mask='all')\n",
    "for i, (m) in enumerate(conf_matrices_p_bins_masked):\n",
    "    cmap = plt.cm.get_cmap('viridis')\n",
    "    cmap.set_bad('gray')  # Set the color for NaN values\n",
    "\n",
    "    ax = fig.add_subplot(gs[i])\n",
    "    ax.imshow(m, vmin=0, vmax=1, cmap=cmap, interpolation='none')\n",
    "\n",
    "    if i % Conf.trial_len == 0:\n",
    "        ax.set_ylabel('True')\n",
    "    if i // Conf.trial_len == 0:\n",
    "        ax.set_xlabel('Pred')\n",
    "        ax.xaxis.set_label_position('top')\n",
    "        ax.set_title(f'step {i}')\n",
    "\n",
    "    ax.set_yticks([])\n",
    "    ax.set_xticks([])\n",
    "\n",
    "bin_counts = np.bincount(bins.flatten(), minlength=n_p_bins)\n",
    "\n",
    "for i in range(Conf.trial_len):\n",
    "    ax = fig.add_subplot(gs[-1, i])\n",
    "    ax.bar(bin_edges - 0.5 / n_p_bins, bin_counts, width=np.diff(bin_edges, prepend=0), align='edge', capsize=2)\n",
    "    ax.set_xlim([0, 1])\n",
    "    ax.set_xlabel('p(A)')\n",
    "    ax.set_xticks([i / 10 for i in range(10)], [])\n",
    "    ax.yaxis.set_visible(False)\n",
    "    if i == 0:\n",
    "        ax.set_ylabel('count')\n",
    "\n",
    "plt.tight_layout()\n"
   ]
  },
  {
   "cell_type": "code",
   "execution_count": 790,
   "metadata": {},
   "outputs": [
    {
     "name": "stdout",
     "output_type": "stream",
     "text": [
      "(400000, 1, 512)\n",
      "(400000,)\n",
      "(400000, 2)\n"
     ]
    }
   ],
   "source": [
    "N_step = 40\n",
    "\n",
    "hiddens_flatten = hiddens[:, :N_step, :].reshape(-1, 1, hiddens.shape[-1])\n",
    "t_step = np.broadcast_to(np.arange(N_step), (hiddens.shape[0], N_step))\n",
    "t_step_flatten = t_step.flatten()\n",
    "layouts_flatten = np.repeat(layouts, hiddens_flatten.shape[0] // hiddens.shape[0], axis=0)\n",
    "print(hiddens_flatten.shape)\n",
    "print(t_step_flatten.shape)\n",
    "print(layouts_flatten.shape)\n",
    "\n",
    "accuracies_t_step, conf_matrices_t_step, chance, _ = train_decoders(hiddens_flatten, targets=t_step_flatten, layouts=layouts_flatten, T=40, multi_class='ovr', max_iter=1000, random_state=42)"
   ]
  },
  {
   "cell_type": "code",
   "execution_count": 383,
   "metadata": {},
   "outputs": [
    {
     "data": {
      "image/png": "[encoded data removed]",
      "text/plain": [
       "<Figure size 640x480 with 1 Axes>"
      ]
     },
     "metadata": {},
     "output_type": "display_data"
    }
   ],
   "source": [
    "plot_decoding_accuracy(accuracies_p_good, n_class=2, title='p(A) decoding')"
   ]
  },
  {
   "cell_type": "code",
   "execution_count": null,
   "metadata": {},
   "outputs": [],
   "source": []
  }
 ],
 "metadata": {
  "kernelspec": {
   "display_name": "Python 3.11.0 ('notebooks_paper')",
   "language": "python",
   "name": "python3"
  },
  "language_info": {
   "codemirror_mode": {
    "name": "ipython",
    "version": 3
   },
   "file_extension": ".py",
   "mimetype": "text/x-python",
   "name": "python",
   "nbconvert_exporter": "python",
   "pygments_lexer": "ipython3",
   "version": "3.11.0"
  },
  "vscode": {
   "interpreter": {
    "hash": "f3586391750d18d99c7792e724704faaf5e9a225df505134f0d1d239bc545854"
   }
  }
 },
 "nbformat": 4,
 "nbformat_minor": 5
}
